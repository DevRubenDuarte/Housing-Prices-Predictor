{
 "cells": [
  {
   "cell_type": "markdown",
   "metadata": {},
   "source": [
    "<div class=\"alert alert-block alert-info\">\n",
    "<center> <h1> Exploratory Data Analysis (EDA) </h1> </center> <br>\n",
    "<center> <h2> Sales Efficiency </h2> </center> <br>\n",
    "<center> <h3> Final Work </h3> </center> <br>\n",
    "<center> Ruben Duarte : 2023168 @ Universidade Atlântica </center>\n",
    "<center> 2023/2024 </center>"
   ]
  },
  {
   "cell_type": "markdown",
   "metadata": {},
   "source": [
    "# 1. Conhecer o Negócio"
   ]
  },
  {
   "cell_type": "markdown",
   "metadata": {},
   "source": [
    "A **Imobilax**, é provavelmente a empresa de comercialização de imóveis mais reconhecida em Portugal e quer manter essa posição. Neste sentido, pretende que uma equipa de **Data Scientists/Engineers** possa analisar a grande quantidade de dados que possui (das vendas efectuadas nas agências de Lisboa e Porto) e sugerir algumas melhorias nos seus processos de venda e prospecção de clientes. \n",
    "\n",
    "A análise exploratória é uma abordagem na análise de dados que visa entender e resumir as principais características de um conjunto de dados. Esta é frequentemente usada no início de um projeto de análise de dados para obter **insights** iniciais e compreender melhor a natureza dos dados antes de aplicar técnicas de **modelação estatística ou machine learning**.\n",
    "\n",
    "A análise exploratória de dados envolve várias atividades, incluindo:\n",
    "\n",
    "- **Resumo estatístico**: Isso inclui calcular estatísticas descritivas, como média, mediana, desvio padrão, mínimo e máximo, para entender a distribuição dos dados.\n",
    "\n",
    "- **Visualização de dados**: Gráficos e plots são usados para representar os dados de forma visual, ajudando a identificar padrões, tendências e anomalias. Gráficos de dispersão, histogramas, box plots e gráficos de barras são comuns na análise exploratória.\n",
    "\n",
    "- **Tratamento de valores ausentes**: Identificar e lidar com valores ausentes nos dados, ou seja, preenchendo-os, removendo-os ou utilizando técnicas específicas para o seu tratamento.\n",
    "\n",
    "- **Análise de correlação**: A análise exploratória também pode incluir o estudo das relações entre variáveis por meio de coeficientes de correlação, o que ajuda a identificar conexões entre diferentes variáveis no conjunto de dados.\n",
    "\n",
    "- **Identificação de outliers**: Outliers são valores que se destacam do restante dos dados. Identificar e entender a presença de outliers é fundamental, uma vez que estes podem afetar os resultados da análise estatística.\n",
    "\n",
    "A análise exploratória de dados é uma etapa crítica na preparação de dados para análises mais avançadas. Esta ajuda os analistas a entender a qualidade dos dados, descobrir **insights** iniciais e determinar quais as técnicas analíticas subsequentes que são mais apropriadas para os dados em questão. Além disso, a análise exploratória ajuda a evitar suposições erróneas e enviesadas na interpretação dos resultados."
   ]
  },
  {
   "cell_type": "markdown",
   "metadata": {},
   "source": [
    "# 2. Conhecer os Dados"
   ]
  },
  {
   "cell_type": "markdown",
   "metadata": {},
   "source": [
    "## Variáveis\n",
    "\n",
    "- **id** - Identificador único para a transacção do imóvel\n",
    "\n",
    "- **city** - Local do imóvel\n",
    "\n",
    "- **osex** - Sexo do proprietário (Owner)\n",
    "\n",
    "- **cyear** - Ano de construção\n",
    "\n",
    "- **quality** - Escala com o estado/qualidade do imóvel\n",
    "\n",
    "- **year** - Ano da transacção do imóvel\n",
    "\n",
    "- **month** - Mês da transacção do imóvel\n",
    "\n",
    "- **buyer.ethnicity** : 1 - American, 2 - Asian, 3 - Black (not Hispanic), 4 - Hispanic, 5 - White, 6 - Middle-Eastern, Arabic\n",
    "\n",
    "- **buyer.gender** - 0 - Male , 1 - Female\n",
    "\n",
    "- **com** - Valor em percentagem ganho de comissão sobre o negócio pelo agente da imobiliária\n",
    "\n",
    "- **size** - Valor em metros quadrados\n",
    "\n",
    "- **price** - Valor em milhares de euros (250 = 250 mil euros)\n",
    "\n",
    "- **iva** - Percentagem de iva aplicada sobre o preço (23%)\n",
    "\n",
    "- **iva.margin** - Valor do iva sobre o negócio\n",
    "\n",
    "- **price.with.iva** - Preço final = price + iva.margin (ou seja, inclui o valor do iva)"
   ]
  },
  {
   "cell_type": "markdown",
   "metadata": {},
   "source": [
    "### Importe as livrarias Python necessárias"
   ]
  },
  {
   "cell_type": "code",
   "execution_count": null,
   "metadata": {
    "collapsed": false
   },
   "outputs": [],
   "source": [
    "import pandas as pd"
   ]
  },
  {
   "cell_type": "markdown",
   "metadata": {},
   "source": [
    "### Importe os dados de partir do ficheiro que lhe corresponde (identificado no documento em anexo)\n",
    "\n",
    "**PS**: Observe cuidadosamente o separador das colunas."
   ]
  },
  {
   "cell_type": "markdown",
   "metadata": {},
   "source": [
    "### Assignar esses dados a uma variável chamada **sales**."
   ]
  },
  {
   "cell_type": "code",
   "execution_count": null,
   "metadata": {
    "collapsed": false
   },
   "outputs": [],
   "source": [
    "sales = pd.read_csv('sales-19.csv')"
   ]
  },
  {
   "cell_type": "markdown",
   "metadata": {},
   "source": [
    "### Ver os primeiros 15 registos"
   ]
  },
  {
   "cell_type": "code",
   "execution_count": null,
   "metadata": {
    "collapsed": false,
    "scrolled": false
   },
   "outputs": [],
   "source": [
    "sales.head(15)"
   ]
  },
  {
   "cell_type": "markdown",
   "metadata": {},
   "source": [
    "### Ver os últimos 8 registos"
   ]
  },
  {
   "cell_type": "code",
   "execution_count": null,
   "metadata": {},
   "outputs": [],
   "source": [
    "sales.tail(8)"
   ]
  },
  {
   "cell_type": "markdown",
   "metadata": {},
   "source": [
    "### Qual o número de observações que tem o dataset?"
   ]
  },
  {
   "cell_type": "code",
   "execution_count": null,
   "metadata": {
    "collapsed": false
   },
   "outputs": [],
   "source": [
    "# Solution 1\n",
    "sales.shape"
   ]
  },
  {
   "cell_type": "code",
   "execution_count": null,
   "metadata": {
    "collapsed": false
   },
   "outputs": [],
   "source": [
    "# Solution 2\n",
    "len(sales)\n"
   ]
  },
  {
   "cell_type": "markdown",
   "metadata": {},
   "source": [
    "### Quantas colunas tem o dataset ?"
   ]
  },
  {
   "cell_type": "code",
   "execution_count": null,
   "metadata": {
    "collapsed": false
   },
   "outputs": [],
   "source": [
    "len(sales.axes[1])"
   ]
  },
  {
   "cell_type": "markdown",
   "metadata": {},
   "source": [
    "### Liste o nome de todas as colunas."
   ]
  },
  {
   "cell_type": "code",
   "execution_count": null,
   "metadata": {
    "collapsed": false
   },
   "outputs": [],
   "source": [
    "sales.columns\n",
    "\n",
    "#alternativa\n",
    "#sales.dtypes"
   ]
  },
  {
   "cell_type": "markdown",
   "metadata": {},
   "source": [
    "### Como está o dataset indexado ?"
   ]
  },
  {
   "cell_type": "code",
   "execution_count": null,
   "metadata": {
    "collapsed": false
   },
   "outputs": [],
   "source": [
    "#Pela coluna 0, id"
   ]
  },
  {
   "cell_type": "markdown",
   "metadata": {},
   "source": [
    "### Qual é a cidade onde se venderam mais casas ? "
   ]
  },
  {
   "cell_type": "code",
   "execution_count": null,
   "metadata": {
    "collapsed": false
   },
   "outputs": [],
   "source": [
    "maxV = sales['city'].value_counts()\n",
    "print(maxV.head(1))"
   ]
  },
  {
   "cell_type": "markdown",
   "metadata": {},
   "source": [
    "### Qual o valor de memória ocupado pelo dataframe ?\n"
   ]
  },
  {
   "cell_type": "code",
   "execution_count": null,
   "metadata": {},
   "outputs": [],
   "source": [
    "sum(sales.memory_usage())"
   ]
  },
  {
   "cell_type": "markdown",
   "metadata": {},
   "source": [
    "\n",
    "### Altere as colunas que achar que devem ser categóricas para esse formato.\n"
   ]
  },
  {
   "cell_type": "code",
   "execution_count": null,
   "metadata": {},
   "outputs": [],
   "source": [
    "sales[\"city\"] = sales[\"city\"].astype(\"category\")\n",
    "sales[\"osex\"] = sales[\"osex\"].astype(\"category\")\n",
    "sales[\"quality\"] = sales[\"quality\"].astype(\"category\")\n",
    "sales[\"buyer.ethnicity\"] = sales[\"buyer.ethnicity\"].astype(\"category\")\n",
    "sales[\"buyer.nationality\"] = sales[\"buyer.nationality\"].astype(\"category\")\n",
    "sales[\"house.type\"] = sales[\"house.type\"].astype(\"category\")\n",
    "sales[\"n.rooms\"] = sales[\"n.rooms\"].astype(\"category\")\n",
    "sales[\"n.bathrooms\"] = sales[\"n.bathrooms\"].astype(\"category\")"
   ]
  },
  {
   "cell_type": "markdown",
   "metadata": {},
   "source": [
    "\n",
    "### Escreva esse dataframe resultante, num novo ficheiro chamado: “sales-stats.csv”\n"
   ]
  },
  {
   "cell_type": "code",
   "execution_count": null,
   "metadata": {},
   "outputs": [],
   "source": [
    "sales.to_csv('sales-stats.csv', index=False)"
   ]
  },
  {
   "cell_type": "markdown",
   "metadata": {},
   "source": [
    "# Preparar os Dados"
   ]
  },
  {
   "cell_type": "markdown",
   "metadata": {},
   "source": [
    "\n",
    "### Corrija os dados nas colunas que tenham valores errados e/ou vazios.\n"
   ]
  },
  {
   "cell_type": "code",
   "execution_count": null,
   "metadata": {},
   "outputs": [],
   "source": [
    "import pandas as pd"
   ]
  },
  {
   "cell_type": "code",
   "execution_count": null,
   "metadata": {},
   "outputs": [],
   "source": [
    "sales = pd.read_csv('sales-stats.csv')\n",
    "sales"
   ]
  },
  {
   "cell_type": "code",
   "execution_count": null,
   "metadata": {},
   "outputs": [],
   "source": [
    "sales['city'].unique()"
   ]
  },
  {
   "cell_type": "code",
   "execution_count": null,
   "metadata": {},
   "outputs": [],
   "source": [
    "sales.loc[sales['city'] == 'Lx', ['city']] = 'Lisboa'\n",
    "sales.loc[sales['city'] == 'LISBOA', ['city']] = 'Lisboa'\n",
    "sales.loc[sales['city'] == 'PORTO', ['city']] = 'Porto'\n",
    "sales.loc[sales['city'] == 'Proto', ['city']] = 'Porto'\n",
    "\n",
    "sales['city'].unique()"
   ]
  },
  {
   "cell_type": "code",
   "execution_count": null,
   "metadata": {},
   "outputs": [],
   "source": [
    "sales['buyer.ethnicity'].unique()"
   ]
  },
  {
   "cell_type": "code",
   "execution_count": null,
   "metadata": {},
   "outputs": [],
   "source": [
    "sales.loc[sales['buyer.ethnicity'] == 1, ['buyer.ethnicity']] = 'American'\n",
    "sales.loc[sales['buyer.ethnicity'] == 2, ['buyer.ethnicity']] = 'Asian'\n",
    "sales.loc[sales['buyer.ethnicity'] == 3, ['buyer.ethnicity']] = 'Black (not Hispanic)'\n",
    "sales.loc[sales['buyer.ethnicity'] == 4, ['buyer.ethnicity']] = 'Hispanic'\n",
    "sales.loc[sales['buyer.ethnicity'] == 5, ['buyer.ethnicity']] = 'White'\n",
    "sales.loc[sales['buyer.ethnicity'] == 6, ['buyer.ethnicity']] = 'Middle-Eastern, Arabic'\n",
    "\n",
    "sales['buyer.ethnicity'].unique()"
   ]
  },
  {
   "cell_type": "code",
   "execution_count": null,
   "metadata": {},
   "outputs": [],
   "source": [
    "sales['buyer.gender'].unique()"
   ]
  },
  {
   "cell_type": "code",
   "execution_count": null,
   "metadata": {},
   "outputs": [],
   "source": [
    "sales.loc[sales['buyer.gender'] == 1, ['buyer.gender']] = 'Female'\n",
    "sales.loc[sales['buyer.gender'] == 0, ['buyer.gender']] = 'Male'\n",
    "\n",
    "sales['buyer.gender'].unique()"
   ]
  },
  {
   "cell_type": "code",
   "execution_count": null,
   "metadata": {},
   "outputs": [],
   "source": [
    "sales['buyer.nationality'].unique()"
   ]
  },
  {
   "cell_type": "code",
   "execution_count": null,
   "metadata": {},
   "outputs": [],
   "source": [
    "sales.loc[sales['buyer.nationality'] == 'PT', ['buyer.nationality']] = 'Portugal'\n",
    "sales.loc[sales['buyer.nationality'] == 'Pt', ['buyer.nationality']] = 'Portugal'\n",
    "sales.loc[sales['buyer.nationality'] == 'Prt', ['buyer.nationality']] = 'Portugal'\n",
    "sales.loc[sales['buyer.nationality'] == 'Portugl', ['buyer.nationality']] = 'Portugal'\n",
    "sales.loc[sales['buyer.nationality'] == 'USA', ['buyer.nationality']] = 'United States of America'\n",
    "sales.loc[sales['buyer.nationality'] == 'EUA', ['buyer.nationality']] = 'United States of America'\n",
    "sales.loc[sales['buyer.nationality'] == 'ENGLAND', ['buyer.nationality']] = 'England'\n",
    "sales.loc[sales['buyer.nationality'] == 'UK', ['buyer.nationality']] = 'England'\n",
    "\n",
    "sales['buyer.nationality'].unique()"
   ]
  },
  {
   "cell_type": "markdown",
   "metadata": {},
   "source": [
    "\n",
    "### Remova as linhas que tenham valores vazios (apenas depois de ter corrigido os valores vazios que possa de facto corrigir).\n"
   ]
  },
  {
   "cell_type": "code",
   "execution_count": null,
   "metadata": {},
   "outputs": [],
   "source": [
    "#sales.dropna()"
   ]
  },
  {
   "cell_type": "markdown",
   "metadata": {},
   "source": [
    "\n",
    "### Remova do dataframe as colunas que achar desnecessárias. Justifique o porquê dessas remoções.\n"
   ]
  },
  {
   "cell_type": "code",
   "execution_count": null,
   "metadata": {},
   "outputs": [],
   "source": [
    "sales = sales.drop(\n",
    "                ['osex', 'buyer.fname', 'buyer.lname'], axis=1\n",
    "            ).dropna(\n",
    "            ).reset_index(\n",
    "                drop=True\n",
    "            )\n",
    "\n",
    "# 'osex', 'buyer.fname', 'buyer.lname' são dados que não trazem informação de relevo para o nosso objectivo\n",
    "# Na minha óptica, isto deve ser feito antes do dropna, pois assim aproveitamos alguns dados, nomeadamente da coluna 'osex'"
   ]
  },
  {
   "cell_type": "markdown",
   "metadata": {},
   "source": [
    "### Adicione ao dataframe as colunas que achar necessárias."
   ]
  },
  {
   "cell_type": "code",
   "execution_count": null,
   "metadata": {},
   "outputs": [],
   "source": [
    "iva = sales.price.multiply(1.23)\n",
    "sales.loc[:, 'price.with.iva'] = iva\n",
    "\n",
    "sales"
   ]
  },
  {
   "cell_type": "code",
   "execution_count": null,
   "metadata": {},
   "outputs": [],
   "source": [
    "sales.to_csv('sales-stats-analisys-ready.csv', index=False)"
   ]
  },
  {
   "cell_type": "markdown",
   "metadata": {},
   "source": [
    "# Analisar os dados"
   ]
  },
  {
   "cell_type": "markdown",
   "metadata": {},
   "source": [
    "\n",
    "### Apresente as estatísticas descritivas sobre todas as colunas do dataset em formato dataframe.\n"
   ]
  },
  {
   "cell_type": "code",
   "execution_count": null,
   "metadata": {},
   "outputs": [],
   "source": [
    "sales.describe()"
   ]
  },
  {
   "cell_type": "markdown",
   "metadata": {},
   "source": [
    "### Apresente os histogramas correspondentes às variáveis numéricas"
   ]
  },
  {
   "cell_type": "code",
   "execution_count": null,
   "metadata": {},
   "outputs": [],
   "source": [
    "sales.hist()"
   ]
  },
  {
   "cell_type": "markdown",
   "metadata": {},
   "source": [
    "\n",
    "### Quantas casas foram vendidas em Lisboa ?\n"
   ]
  },
  {
   "cell_type": "code",
   "execution_count": null,
   "metadata": {},
   "outputs": [],
   "source": [
    "sales_by_city = sales.groupby('city')\n",
    "# sales_by_city.get_group('Lisboa').value_counts().sum()\n",
    "\n",
    "sales['city'].value_counts()['Lisboa'].sum()"
   ]
  },
  {
   "cell_type": "markdown",
   "metadata": {},
   "source": [
    "\n",
    "### Quantas casas foram vendidas no Porto e Coimbra ?\n"
   ]
  },
  {
   "cell_type": "code",
   "execution_count": 14,
   "metadata": {},
   "outputs": [
    {
     "data": {
      "text/plain": [
       "151"
      ]
     },
     "execution_count": 14,
     "metadata": {},
     "output_type": "execute_result"
    }
   ],
   "source": [
    "sales['city'].value_counts()['Porto'].sum() + sales['city'].value_counts()['Coimbra'].sum()"
   ]
  },
  {
   "cell_type": "markdown",
   "metadata": {},
   "source": [
    "\n",
    "### Qual a percentagem de casas que foram vendidas em Portimão ?\n"
   ]
  },
  {
   "cell_type": "code",
   "execution_count": null,
   "metadata": {},
   "outputs": [],
   "source": [
    "sales['city'].value_counts()['Portimão'].sum() / sales['city'].value_counts().sum() * 100"
   ]
  },
  {
   "cell_type": "markdown",
   "metadata": {},
   "source": [
    "\n",
    "### Qual o número de casas vendidas por nacionalidade ?\n"
   ]
  },
  {
   "cell_type": "code",
   "execution_count": null,
   "metadata": {},
   "outputs": [],
   "source": [
    "sales['buyer.nationality'].value_counts()"
   ]
  },
  {
   "cell_type": "markdown",
   "metadata": {},
   "source": [
    "\n",
    "### Qual a percentagem de vendas a mulheres ? E a homens ?\n"
   ]
  },
  {
   "cell_type": "code",
   "execution_count": null,
   "metadata": {},
   "outputs": [],
   "source": [
    "# Mulheres\n",
    "sales['buyer.gender'].value_counts()['Female'].sum() / sales['buyer.gender'].value_counts().sum() * 100"
   ]
  },
  {
   "cell_type": "code",
   "execution_count": null,
   "metadata": {},
   "outputs": [],
   "source": [
    "# Homens\n",
    "sales['buyer.gender'].value_counts()['Male'].sum() / sales['buyer.gender'].value_counts().sum() * 100"
   ]
  },
  {
   "cell_type": "markdown",
   "metadata": {},
   "source": [
    "\n",
    "### Qual o valor médio do preço das casas apenas em Lisboa ? E no Porto ?\n"
   ]
  },
  {
   "cell_type": "code",
   "execution_count": null,
   "metadata": {},
   "outputs": [],
   "source": [
    "sales_by_city.get_group('Lisboa')['price'].median()"
   ]
  },
  {
   "cell_type": "code",
   "execution_count": null,
   "metadata": {},
   "outputs": [],
   "source": [
    "sales_by_city.get_group('Porto')['price'].median()"
   ]
  },
  {
   "cell_type": "markdown",
   "metadata": {},
   "source": [
    "\n",
    "### Qual o valor médio do preço das vendas totais ?\n"
   ]
  },
  {
   "cell_type": "code",
   "execution_count": null,
   "metadata": {},
   "outputs": [],
   "source": [
    "sales['price'].median()"
   ]
  },
  {
   "cell_type": "markdown",
   "metadata": {},
   "source": [
    "\n",
    "### Qual o valor da correlação entre o número de casas de banho e o preço da casa ? Explique o facto.\n"
   ]
  },
  {
   "cell_type": "code",
   "execution_count": null,
   "metadata": {},
   "outputs": [],
   "source": [
    "sales.plot.scatter(x='n.bathrooms', y='price')"
   ]
  },
  {
   "cell_type": "code",
   "execution_count": null,
   "metadata": {},
   "outputs": [],
   "source": [
    "# O facto de haver um outlier consistente de casas com 30 wc's leva-me a acreditar que seja erro de introdução\n",
    "# Posso fazer drop desses valores\n",
    "\n",
    "#sales['n.bathrooms'] = sales['n.bathrooms'].drop(30)\n",
    "\n",
    "# Mas neste caso acredito que o valor correcto seja 3 em vez de 30, portanto vou alterar os dados\n",
    "\n",
    "sales['n.bathrooms'] = sales['n.bathrooms'].replace(to_replace=30, value=3)\n",
    "\n",
    "sales.plot.scatter(x='n.bathrooms', y='price')"
   ]
  },
  {
   "cell_type": "code",
   "execution_count": null,
   "metadata": {},
   "outputs": [],
   "source": [
    "sales[['n.bathrooms', 'price']].corr(method='spearman')\n",
    "\n",
    "# Não existe uma correlação entre o preço das casas, e o número de casas de banho, com um coeficiente de correlação muito perto de 0"
   ]
  },
  {
   "cell_type": "markdown",
   "metadata": {},
   "source": [
    "\n",
    "### Que tipo de correlação existe entre o número de quartos e o preço da casa ? E qual o seu valor ?\n"
   ]
  },
  {
   "cell_type": "code",
   "execution_count": null,
   "metadata": {},
   "outputs": [],
   "source": [
    "sales.plot.scatter(x='n.rooms', y='price')"
   ]
  },
  {
   "cell_type": "code",
   "execution_count": null,
   "metadata": {},
   "outputs": [],
   "source": [
    "sales[['n.rooms', 'price']].corr(method='spearman')\n",
    "\n",
    "# Existe uma forte correlação positiva, com um coeficiente de correlação de quase 1"
   ]
  },
  {
   "cell_type": "markdown",
   "metadata": {},
   "source": [
    "### Apresente livremente gráficos exploratórios sobre as vendas."
   ]
  },
  {
   "cell_type": "code",
   "execution_count": null,
   "metadata": {},
   "outputs": [],
   "source": []
  },
  {
   "cell_type": "markdown",
   "metadata": {},
   "source": [
    "# Modelação"
   ]
  },
  {
   "cell_type": "markdown",
   "metadata": {},
   "source": [
    "\n",
    "### Se lhe for apresentada a seguinte casa para venda, qual o valor que sugeria como mais adequado a esse imóvel ?\n",
    "\n",
    "**city,osex,cyear,quality,buyer.ethnicity,buyer.gender,buyer.age,buyer.nationality,house.type,size,n.rooms,n.bathrooms**\n",
    "\n",
    "*Lisboa,Male,2015,High,1,1,59,Portugal,Apartamento,92.02,4,4*\n"
   ]
  },
  {
   "cell_type": "code",
   "execution_count": 1,
   "metadata": {},
   "outputs": [
    {
     "data": {
      "text/html": [
       "<div>\n",
       "<style scoped>\n",
       "    .dataframe tbody tr th:only-of-type {\n",
       "        vertical-align: middle;\n",
       "    }\n",
       "\n",
       "    .dataframe tbody tr th {\n",
       "        vertical-align: top;\n",
       "    }\n",
       "\n",
       "    .dataframe thead th {\n",
       "        text-align: right;\n",
       "    }\n",
       "</style>\n",
       "<table border=\"1\" class=\"dataframe\">\n",
       "  <thead>\n",
       "    <tr style=\"text-align: right;\">\n",
       "      <th></th>\n",
       "      <th>id</th>\n",
       "      <th>city</th>\n",
       "      <th>cyear</th>\n",
       "      <th>quality</th>\n",
       "      <th>year</th>\n",
       "      <th>buyer.ethnicity</th>\n",
       "      <th>buyer.gender</th>\n",
       "      <th>buyer.age</th>\n",
       "      <th>buyer.nationality</th>\n",
       "      <th>house.type</th>\n",
       "      <th>size</th>\n",
       "      <th>n.rooms</th>\n",
       "      <th>n.bathrooms</th>\n",
       "      <th>price</th>\n",
       "      <th>price.with.iva</th>\n",
       "    </tr>\n",
       "  </thead>\n",
       "  <tbody>\n",
       "    <tr>\n",
       "      <th>0</th>\n",
       "      <td>PT-387</td>\n",
       "      <td>Lisboa</td>\n",
       "      <td>2004.0</td>\n",
       "      <td>Low</td>\n",
       "      <td>2023</td>\n",
       "      <td>Middle-Eastern, Arabic</td>\n",
       "      <td>Male</td>\n",
       "      <td>46</td>\n",
       "      <td>United States of America</td>\n",
       "      <td>Apartamento</td>\n",
       "      <td>338.73</td>\n",
       "      <td>1</td>\n",
       "      <td>2</td>\n",
       "      <td>220</td>\n",
       "      <td>270.60</td>\n",
       "    </tr>\n",
       "    <tr>\n",
       "      <th>1</th>\n",
       "      <td>PT-1225</td>\n",
       "      <td>Lisboa</td>\n",
       "      <td>2014.0</td>\n",
       "      <td>Very High</td>\n",
       "      <td>2018</td>\n",
       "      <td>Hispanic</td>\n",
       "      <td>Female</td>\n",
       "      <td>47</td>\n",
       "      <td>Portugal</td>\n",
       "      <td>Vivenda</td>\n",
       "      <td>230.79</td>\n",
       "      <td>3</td>\n",
       "      <td>4</td>\n",
       "      <td>476</td>\n",
       "      <td>585.48</td>\n",
       "    </tr>\n",
       "    <tr>\n",
       "      <th>2</th>\n",
       "      <td>PT-1108</td>\n",
       "      <td>Lisboa</td>\n",
       "      <td>2003.0</td>\n",
       "      <td>High</td>\n",
       "      <td>2016</td>\n",
       "      <td>White</td>\n",
       "      <td>Female</td>\n",
       "      <td>39</td>\n",
       "      <td>Portugal</td>\n",
       "      <td>Quinta</td>\n",
       "      <td>209.77</td>\n",
       "      <td>2</td>\n",
       "      <td>3</td>\n",
       "      <td>299</td>\n",
       "      <td>367.77</td>\n",
       "    </tr>\n",
       "    <tr>\n",
       "      <th>3</th>\n",
       "      <td>PT-219</td>\n",
       "      <td>Porto</td>\n",
       "      <td>2006.0</td>\n",
       "      <td>High</td>\n",
       "      <td>2015</td>\n",
       "      <td>White</td>\n",
       "      <td>Male</td>\n",
       "      <td>40</td>\n",
       "      <td>United States of America</td>\n",
       "      <td>Apartamento</td>\n",
       "      <td>315.01</td>\n",
       "      <td>3</td>\n",
       "      <td>3</td>\n",
       "      <td>400</td>\n",
       "      <td>492.00</td>\n",
       "    </tr>\n",
       "    <tr>\n",
       "      <th>4</th>\n",
       "      <td>PT-544</td>\n",
       "      <td>Lisboa</td>\n",
       "      <td>2002.0</td>\n",
       "      <td>Perfect</td>\n",
       "      <td>2022</td>\n",
       "      <td>Black (not Hispanic)</td>\n",
       "      <td>Female</td>\n",
       "      <td>39</td>\n",
       "      <td>England</td>\n",
       "      <td>Apartamento</td>\n",
       "      <td>146.53</td>\n",
       "      <td>5</td>\n",
       "      <td>4</td>\n",
       "      <td>827</td>\n",
       "      <td>1017.21</td>\n",
       "    </tr>\n",
       "    <tr>\n",
       "      <th>...</th>\n",
       "      <td>...</td>\n",
       "      <td>...</td>\n",
       "      <td>...</td>\n",
       "      <td>...</td>\n",
       "      <td>...</td>\n",
       "      <td>...</td>\n",
       "      <td>...</td>\n",
       "      <td>...</td>\n",
       "      <td>...</td>\n",
       "      <td>...</td>\n",
       "      <td>...</td>\n",
       "      <td>...</td>\n",
       "      <td>...</td>\n",
       "      <td>...</td>\n",
       "      <td>...</td>\n",
       "    </tr>\n",
       "    <tr>\n",
       "      <th>404</th>\n",
       "      <td>PT-1059</td>\n",
       "      <td>Lisboa</td>\n",
       "      <td>1996.0</td>\n",
       "      <td>Low</td>\n",
       "      <td>2018</td>\n",
       "      <td>Asian</td>\n",
       "      <td>Female</td>\n",
       "      <td>46</td>\n",
       "      <td>Portugal</td>\n",
       "      <td>Vivenda</td>\n",
       "      <td>329.84</td>\n",
       "      <td>1</td>\n",
       "      <td>4</td>\n",
       "      <td>220</td>\n",
       "      <td>270.60</td>\n",
       "    </tr>\n",
       "    <tr>\n",
       "      <th>405</th>\n",
       "      <td>PT-834</td>\n",
       "      <td>Porto</td>\n",
       "      <td>2008.0</td>\n",
       "      <td>High</td>\n",
       "      <td>2016</td>\n",
       "      <td>Hispanic</td>\n",
       "      <td>Male</td>\n",
       "      <td>10</td>\n",
       "      <td>Portugal</td>\n",
       "      <td>Quinta</td>\n",
       "      <td>282.50</td>\n",
       "      <td>2</td>\n",
       "      <td>2</td>\n",
       "      <td>348</td>\n",
       "      <td>428.04</td>\n",
       "    </tr>\n",
       "    <tr>\n",
       "      <th>406</th>\n",
       "      <td>PT-167</td>\n",
       "      <td>Porto</td>\n",
       "      <td>2006.0</td>\n",
       "      <td>High</td>\n",
       "      <td>2016</td>\n",
       "      <td>White</td>\n",
       "      <td>Female</td>\n",
       "      <td>45</td>\n",
       "      <td>United States of America</td>\n",
       "      <td>Apartamento</td>\n",
       "      <td>292.31</td>\n",
       "      <td>6</td>\n",
       "      <td>30</td>\n",
       "      <td>847</td>\n",
       "      <td>1041.81</td>\n",
       "    </tr>\n",
       "    <tr>\n",
       "      <th>407</th>\n",
       "      <td>PT-34</td>\n",
       "      <td>Lisboa</td>\n",
       "      <td>1960.0</td>\n",
       "      <td>Very High</td>\n",
       "      <td>2023</td>\n",
       "      <td>American</td>\n",
       "      <td>Female</td>\n",
       "      <td>49</td>\n",
       "      <td>Portugal</td>\n",
       "      <td>Apartamento</td>\n",
       "      <td>294.32</td>\n",
       "      <td>1</td>\n",
       "      <td>2</td>\n",
       "      <td>227</td>\n",
       "      <td>279.21</td>\n",
       "    </tr>\n",
       "    <tr>\n",
       "      <th>408</th>\n",
       "      <td>PT-253</td>\n",
       "      <td>Porto</td>\n",
       "      <td>1999.0</td>\n",
       "      <td>High</td>\n",
       "      <td>2016</td>\n",
       "      <td>Hispanic</td>\n",
       "      <td>Male</td>\n",
       "      <td>29</td>\n",
       "      <td>England</td>\n",
       "      <td>Apartamento</td>\n",
       "      <td>263.74</td>\n",
       "      <td>6</td>\n",
       "      <td>3</td>\n",
       "      <td>964</td>\n",
       "      <td>1185.72</td>\n",
       "    </tr>\n",
       "  </tbody>\n",
       "</table>\n",
       "<p>409 rows × 15 columns</p>\n",
       "</div>"
      ],
      "text/plain": [
       "          id    city   cyear    quality  year         buyer.ethnicity  \\\n",
       "0     PT-387  Lisboa  2004.0        Low  2023  Middle-Eastern, Arabic   \n",
       "1    PT-1225  Lisboa  2014.0  Very High  2018                Hispanic   \n",
       "2    PT-1108  Lisboa  2003.0       High  2016                   White   \n",
       "3     PT-219   Porto  2006.0       High  2015                   White   \n",
       "4     PT-544  Lisboa  2002.0    Perfect  2022    Black (not Hispanic)   \n",
       "..       ...     ...     ...        ...   ...                     ...   \n",
       "404  PT-1059  Lisboa  1996.0        Low  2018                   Asian   \n",
       "405   PT-834   Porto  2008.0       High  2016                Hispanic   \n",
       "406   PT-167   Porto  2006.0       High  2016                   White   \n",
       "407    PT-34  Lisboa  1960.0  Very High  2023                American   \n",
       "408   PT-253   Porto  1999.0       High  2016                Hispanic   \n",
       "\n",
       "    buyer.gender  buyer.age         buyer.nationality   house.type    size  \\\n",
       "0           Male         46  United States of America  Apartamento  338.73   \n",
       "1         Female         47                  Portugal      Vivenda  230.79   \n",
       "2         Female         39                  Portugal       Quinta  209.77   \n",
       "3           Male         40  United States of America  Apartamento  315.01   \n",
       "4         Female         39                   England  Apartamento  146.53   \n",
       "..           ...        ...                       ...          ...     ...   \n",
       "404       Female         46                  Portugal      Vivenda  329.84   \n",
       "405         Male         10                  Portugal       Quinta  282.50   \n",
       "406       Female         45  United States of America  Apartamento  292.31   \n",
       "407       Female         49                  Portugal  Apartamento  294.32   \n",
       "408         Male         29                   England  Apartamento  263.74   \n",
       "\n",
       "     n.rooms  n.bathrooms  price  price.with.iva  \n",
       "0          1            2    220          270.60  \n",
       "1          3            4    476          585.48  \n",
       "2          2            3    299          367.77  \n",
       "3          3            3    400          492.00  \n",
       "4          5            4    827         1017.21  \n",
       "..       ...          ...    ...             ...  \n",
       "404        1            4    220          270.60  \n",
       "405        2            2    348          428.04  \n",
       "406        6           30    847         1041.81  \n",
       "407        1            2    227          279.21  \n",
       "408        6            3    964         1185.72  \n",
       "\n",
       "[409 rows x 15 columns]"
      ]
     },
     "execution_count": 1,
     "metadata": {},
     "output_type": "execute_result"
    }
   ],
   "source": [
    "import pandas as pd\n",
    "sales = pd.read_csv('sales-stats-final.csv')\n",
    "sales"
   ]
  },
  {
   "cell_type": "code",
   "execution_count": 2,
   "metadata": {},
   "outputs": [],
   "source": [
    "# Vou usar um algoritmo de Regressão Linear, pela rapidez, interpretabilidade, e necessidade de recursos\n",
    "#%pip install scikit-learn\n",
    "from sklearn.linear_model import LinearRegression\n",
    "from sklearn.model_selection import train_test_split\n",
    "from sklearn import metrics\n",
    "from sklearn.preprocessing import OneHotEncoder"
   ]
  },
  {
   "cell_type": "code",
   "execution_count": 3,
   "metadata": {},
   "outputs": [
    {
     "data": {
      "text/html": [
       "<div>\n",
       "<style scoped>\n",
       "    .dataframe tbody tr th:only-of-type {\n",
       "        vertical-align: middle;\n",
       "    }\n",
       "\n",
       "    .dataframe tbody tr th {\n",
       "        vertical-align: top;\n",
       "    }\n",
       "\n",
       "    .dataframe thead th {\n",
       "        text-align: right;\n",
       "    }\n",
       "</style>\n",
       "<table border=\"1\" class=\"dataframe\">\n",
       "  <thead>\n",
       "    <tr style=\"text-align: right;\">\n",
       "      <th></th>\n",
       "      <th>city_Coimbra</th>\n",
       "      <th>city_Faro</th>\n",
       "      <th>city_Lagos</th>\n",
       "      <th>city_Lisboa</th>\n",
       "      <th>city_Portimão</th>\n",
       "      <th>city_Porto</th>\n",
       "      <th>quality_High</th>\n",
       "      <th>quality_Low</th>\n",
       "      <th>quality_Medium</th>\n",
       "      <th>quality_Perfect</th>\n",
       "      <th>...</th>\n",
       "      <th>buyer_nationality_United States of America</th>\n",
       "      <th>house_type_Apartamento</th>\n",
       "      <th>house_type_Quinta</th>\n",
       "      <th>house_type_Vivenda</th>\n",
       "      <th>cyear</th>\n",
       "      <th>year</th>\n",
       "      <th>buyer_age</th>\n",
       "      <th>size</th>\n",
       "      <th>n_rooms</th>\n",
       "      <th>n_bathrooms</th>\n",
       "    </tr>\n",
       "  </thead>\n",
       "  <tbody>\n",
       "    <tr>\n",
       "      <th>0</th>\n",
       "      <td>False</td>\n",
       "      <td>False</td>\n",
       "      <td>False</td>\n",
       "      <td>True</td>\n",
       "      <td>False</td>\n",
       "      <td>False</td>\n",
       "      <td>False</td>\n",
       "      <td>True</td>\n",
       "      <td>False</td>\n",
       "      <td>False</td>\n",
       "      <td>...</td>\n",
       "      <td>True</td>\n",
       "      <td>True</td>\n",
       "      <td>False</td>\n",
       "      <td>False</td>\n",
       "      <td>2004.0</td>\n",
       "      <td>2023</td>\n",
       "      <td>46</td>\n",
       "      <td>338.73</td>\n",
       "      <td>1</td>\n",
       "      <td>2</td>\n",
       "    </tr>\n",
       "    <tr>\n",
       "      <th>1</th>\n",
       "      <td>False</td>\n",
       "      <td>False</td>\n",
       "      <td>False</td>\n",
       "      <td>True</td>\n",
       "      <td>False</td>\n",
       "      <td>False</td>\n",
       "      <td>False</td>\n",
       "      <td>False</td>\n",
       "      <td>False</td>\n",
       "      <td>False</td>\n",
       "      <td>...</td>\n",
       "      <td>False</td>\n",
       "      <td>False</td>\n",
       "      <td>False</td>\n",
       "      <td>True</td>\n",
       "      <td>2014.0</td>\n",
       "      <td>2018</td>\n",
       "      <td>47</td>\n",
       "      <td>230.79</td>\n",
       "      <td>3</td>\n",
       "      <td>4</td>\n",
       "    </tr>\n",
       "    <tr>\n",
       "      <th>2</th>\n",
       "      <td>False</td>\n",
       "      <td>False</td>\n",
       "      <td>False</td>\n",
       "      <td>True</td>\n",
       "      <td>False</td>\n",
       "      <td>False</td>\n",
       "      <td>True</td>\n",
       "      <td>False</td>\n",
       "      <td>False</td>\n",
       "      <td>False</td>\n",
       "      <td>...</td>\n",
       "      <td>False</td>\n",
       "      <td>False</td>\n",
       "      <td>True</td>\n",
       "      <td>False</td>\n",
       "      <td>2003.0</td>\n",
       "      <td>2016</td>\n",
       "      <td>39</td>\n",
       "      <td>209.77</td>\n",
       "      <td>2</td>\n",
       "      <td>3</td>\n",
       "    </tr>\n",
       "    <tr>\n",
       "      <th>3</th>\n",
       "      <td>False</td>\n",
       "      <td>False</td>\n",
       "      <td>False</td>\n",
       "      <td>False</td>\n",
       "      <td>False</td>\n",
       "      <td>True</td>\n",
       "      <td>True</td>\n",
       "      <td>False</td>\n",
       "      <td>False</td>\n",
       "      <td>False</td>\n",
       "      <td>...</td>\n",
       "      <td>True</td>\n",
       "      <td>True</td>\n",
       "      <td>False</td>\n",
       "      <td>False</td>\n",
       "      <td>2006.0</td>\n",
       "      <td>2015</td>\n",
       "      <td>40</td>\n",
       "      <td>315.01</td>\n",
       "      <td>3</td>\n",
       "      <td>3</td>\n",
       "    </tr>\n",
       "    <tr>\n",
       "      <th>4</th>\n",
       "      <td>False</td>\n",
       "      <td>False</td>\n",
       "      <td>False</td>\n",
       "      <td>True</td>\n",
       "      <td>False</td>\n",
       "      <td>False</td>\n",
       "      <td>False</td>\n",
       "      <td>False</td>\n",
       "      <td>False</td>\n",
       "      <td>True</td>\n",
       "      <td>...</td>\n",
       "      <td>False</td>\n",
       "      <td>True</td>\n",
       "      <td>False</td>\n",
       "      <td>False</td>\n",
       "      <td>2002.0</td>\n",
       "      <td>2022</td>\n",
       "      <td>39</td>\n",
       "      <td>146.53</td>\n",
       "      <td>5</td>\n",
       "      <td>4</td>\n",
       "    </tr>\n",
       "    <tr>\n",
       "      <th>...</th>\n",
       "      <td>...</td>\n",
       "      <td>...</td>\n",
       "      <td>...</td>\n",
       "      <td>...</td>\n",
       "      <td>...</td>\n",
       "      <td>...</td>\n",
       "      <td>...</td>\n",
       "      <td>...</td>\n",
       "      <td>...</td>\n",
       "      <td>...</td>\n",
       "      <td>...</td>\n",
       "      <td>...</td>\n",
       "      <td>...</td>\n",
       "      <td>...</td>\n",
       "      <td>...</td>\n",
       "      <td>...</td>\n",
       "      <td>...</td>\n",
       "      <td>...</td>\n",
       "      <td>...</td>\n",
       "      <td>...</td>\n",
       "      <td>...</td>\n",
       "    </tr>\n",
       "    <tr>\n",
       "      <th>404</th>\n",
       "      <td>False</td>\n",
       "      <td>False</td>\n",
       "      <td>False</td>\n",
       "      <td>True</td>\n",
       "      <td>False</td>\n",
       "      <td>False</td>\n",
       "      <td>False</td>\n",
       "      <td>True</td>\n",
       "      <td>False</td>\n",
       "      <td>False</td>\n",
       "      <td>...</td>\n",
       "      <td>False</td>\n",
       "      <td>False</td>\n",
       "      <td>False</td>\n",
       "      <td>True</td>\n",
       "      <td>1996.0</td>\n",
       "      <td>2018</td>\n",
       "      <td>46</td>\n",
       "      <td>329.84</td>\n",
       "      <td>1</td>\n",
       "      <td>4</td>\n",
       "    </tr>\n",
       "    <tr>\n",
       "      <th>405</th>\n",
       "      <td>False</td>\n",
       "      <td>False</td>\n",
       "      <td>False</td>\n",
       "      <td>False</td>\n",
       "      <td>False</td>\n",
       "      <td>True</td>\n",
       "      <td>True</td>\n",
       "      <td>False</td>\n",
       "      <td>False</td>\n",
       "      <td>False</td>\n",
       "      <td>...</td>\n",
       "      <td>False</td>\n",
       "      <td>False</td>\n",
       "      <td>True</td>\n",
       "      <td>False</td>\n",
       "      <td>2008.0</td>\n",
       "      <td>2016</td>\n",
       "      <td>10</td>\n",
       "      <td>282.50</td>\n",
       "      <td>2</td>\n",
       "      <td>2</td>\n",
       "    </tr>\n",
       "    <tr>\n",
       "      <th>406</th>\n",
       "      <td>False</td>\n",
       "      <td>False</td>\n",
       "      <td>False</td>\n",
       "      <td>False</td>\n",
       "      <td>False</td>\n",
       "      <td>True</td>\n",
       "      <td>True</td>\n",
       "      <td>False</td>\n",
       "      <td>False</td>\n",
       "      <td>False</td>\n",
       "      <td>...</td>\n",
       "      <td>True</td>\n",
       "      <td>True</td>\n",
       "      <td>False</td>\n",
       "      <td>False</td>\n",
       "      <td>2006.0</td>\n",
       "      <td>2016</td>\n",
       "      <td>45</td>\n",
       "      <td>292.31</td>\n",
       "      <td>6</td>\n",
       "      <td>30</td>\n",
       "    </tr>\n",
       "    <tr>\n",
       "      <th>407</th>\n",
       "      <td>False</td>\n",
       "      <td>False</td>\n",
       "      <td>False</td>\n",
       "      <td>True</td>\n",
       "      <td>False</td>\n",
       "      <td>False</td>\n",
       "      <td>False</td>\n",
       "      <td>False</td>\n",
       "      <td>False</td>\n",
       "      <td>False</td>\n",
       "      <td>...</td>\n",
       "      <td>False</td>\n",
       "      <td>True</td>\n",
       "      <td>False</td>\n",
       "      <td>False</td>\n",
       "      <td>1960.0</td>\n",
       "      <td>2023</td>\n",
       "      <td>49</td>\n",
       "      <td>294.32</td>\n",
       "      <td>1</td>\n",
       "      <td>2</td>\n",
       "    </tr>\n",
       "    <tr>\n",
       "      <th>408</th>\n",
       "      <td>False</td>\n",
       "      <td>False</td>\n",
       "      <td>False</td>\n",
       "      <td>False</td>\n",
       "      <td>False</td>\n",
       "      <td>True</td>\n",
       "      <td>True</td>\n",
       "      <td>False</td>\n",
       "      <td>False</td>\n",
       "      <td>False</td>\n",
       "      <td>...</td>\n",
       "      <td>False</td>\n",
       "      <td>True</td>\n",
       "      <td>False</td>\n",
       "      <td>False</td>\n",
       "      <td>1999.0</td>\n",
       "      <td>2016</td>\n",
       "      <td>29</td>\n",
       "      <td>263.74</td>\n",
       "      <td>6</td>\n",
       "      <td>3</td>\n",
       "    </tr>\n",
       "  </tbody>\n",
       "</table>\n",
       "<p>409 rows × 31 columns</p>\n",
       "</div>"
      ],
      "text/plain": [
       "     city_Coimbra  city_Faro  city_Lagos  city_Lisboa  city_Portimão  \\\n",
       "0           False      False       False         True          False   \n",
       "1           False      False       False         True          False   \n",
       "2           False      False       False         True          False   \n",
       "3           False      False       False        False          False   \n",
       "4           False      False       False         True          False   \n",
       "..            ...        ...         ...          ...            ...   \n",
       "404         False      False       False         True          False   \n",
       "405         False      False       False        False          False   \n",
       "406         False      False       False        False          False   \n",
       "407         False      False       False         True          False   \n",
       "408         False      False       False        False          False   \n",
       "\n",
       "     city_Porto  quality_High  quality_Low  quality_Medium  quality_Perfect  \\\n",
       "0         False         False         True           False            False   \n",
       "1         False         False        False           False            False   \n",
       "2         False          True        False           False            False   \n",
       "3          True          True        False           False            False   \n",
       "4         False         False        False           False             True   \n",
       "..          ...           ...          ...             ...              ...   \n",
       "404       False         False         True           False            False   \n",
       "405        True          True        False           False            False   \n",
       "406        True          True        False           False            False   \n",
       "407       False         False        False           False            False   \n",
       "408        True          True        False           False            False   \n",
       "\n",
       "     ...  buyer_nationality_United States of America  house_type_Apartamento  \\\n",
       "0    ...                                        True                    True   \n",
       "1    ...                                       False                   False   \n",
       "2    ...                                       False                   False   \n",
       "3    ...                                        True                    True   \n",
       "4    ...                                       False                    True   \n",
       "..   ...                                         ...                     ...   \n",
       "404  ...                                       False                   False   \n",
       "405  ...                                       False                   False   \n",
       "406  ...                                        True                    True   \n",
       "407  ...                                       False                    True   \n",
       "408  ...                                       False                    True   \n",
       "\n",
       "     house_type_Quinta  house_type_Vivenda   cyear  year  buyer_age    size  \\\n",
       "0                False               False  2004.0  2023         46  338.73   \n",
       "1                False                True  2014.0  2018         47  230.79   \n",
       "2                 True               False  2003.0  2016         39  209.77   \n",
       "3                False               False  2006.0  2015         40  315.01   \n",
       "4                False               False  2002.0  2022         39  146.53   \n",
       "..                 ...                 ...     ...   ...        ...     ...   \n",
       "404              False                True  1996.0  2018         46  329.84   \n",
       "405               True               False  2008.0  2016         10  282.50   \n",
       "406              False               False  2006.0  2016         45  292.31   \n",
       "407              False               False  1960.0  2023         49  294.32   \n",
       "408              False               False  1999.0  2016         29  263.74   \n",
       "\n",
       "     n_rooms  n_bathrooms  \n",
       "0          1            2  \n",
       "1          3            4  \n",
       "2          2            3  \n",
       "3          3            3  \n",
       "4          5            4  \n",
       "..       ...          ...  \n",
       "404        1            4  \n",
       "405        2            2  \n",
       "406        6           30  \n",
       "407        1            2  \n",
       "408        6            3  \n",
       "\n",
       "[409 rows x 31 columns]"
      ]
     },
     "execution_count": 3,
     "metadata": {},
     "output_type": "execute_result"
    }
   ],
   "source": [
    "sales = sales.rename(columns={\n",
    "    'buyer.ethnicity': 'buyer_ethnicity',\n",
    "    'buyer.gender': 'buyer_gender',\n",
    "    'buyer.age': 'buyer_age',\n",
    "    'buyer.nationality': 'buyer_nationality',\n",
    "    'house.type': 'house_type',\n",
    "    'n.rooms': 'n_rooms',\n",
    "    'n.bathrooms': 'n_bathrooms'\n",
    "})\n",
    "\n",
    "sales_d = pd.DataFrame()\n",
    "\n",
    "sales_d =pd.get_dummies(\n",
    "                sales[['city']]\n",
    "            ).merge(\n",
    "                pd.get_dummies(sales[['quality']]), left_index=True, right_index=True\n",
    "            ).merge(\n",
    "                pd.get_dummies(sales[['buyer_ethnicity']]), left_index=True, right_index=True\n",
    "            ).merge(\n",
    "                pd.get_dummies(sales[['buyer_gender']]), left_index=True, right_index=True\n",
    "            ).merge(\n",
    "                pd.get_dummies(sales[['buyer_nationality']]), left_index=True, right_index=True\n",
    "            ).merge(\n",
    "                pd.get_dummies(sales[['house_type']]), left_index=True, right_index=True\n",
    "            ).merge(\n",
    "                sales[['cyear', 'year', 'buyer_age', 'size', 'n_rooms', 'n_bathrooms']], left_index=True, right_index=True\n",
    "            )\n",
    "\n",
    "sales_d = sales_d.reindex(sales_d.columns, axis=1)\n",
    "\n",
    "sales_d\n"
   ]
  },
  {
   "cell_type": "code",
   "execution_count": 5,
   "metadata": {},
   "outputs": [],
   "source": [
    "# Features and target selecting\n",
    "x = sales_d\n",
    "\n",
    "y = sales.price"
   ]
  },
  {
   "cell_type": "code",
   "execution_count": 6,
   "metadata": {},
   "outputs": [],
   "source": [
    "# Data Splitting for later testing\n",
    "X_train, X_test, y_train, y_test = train_test_split(x, y, test_size=0.2, random_state=1) # 80% training and 20% test"
   ]
  },
  {
   "cell_type": "code",
   "execution_count": 7,
   "metadata": {},
   "outputs": [],
   "source": [
    "# Decision Tree Model Build\n",
    "clf = LinearRegression() # Classifier Creation\n",
    "\n",
    "clf = clf.fit(X_train, y_train) # Model Training\n",
    "\n",
    "y_pred = clf.predict(X_test) # Predict with Test Data"
   ]
  },
  {
   "cell_type": "code",
   "execution_count": 8,
   "metadata": {},
   "outputs": [
    {
     "data": {
      "text/plain": [
       "2864.0231106255605"
      ]
     },
     "execution_count": 8,
     "metadata": {},
     "output_type": "execute_result"
    }
   ],
   "source": [
    "# Evaluating against test using mean squared error\n",
    "metrics.mean_squared_error(y_test, y_pred)"
   ]
  },
  {
   "cell_type": "code",
   "execution_count": 12,
   "metadata": {},
   "outputs": [
    {
     "data": {
      "text/html": [
       "<div>\n",
       "<style scoped>\n",
       "    .dataframe tbody tr th:only-of-type {\n",
       "        vertical-align: middle;\n",
       "    }\n",
       "\n",
       "    .dataframe tbody tr th {\n",
       "        vertical-align: top;\n",
       "    }\n",
       "\n",
       "    .dataframe thead th {\n",
       "        text-align: right;\n",
       "    }\n",
       "</style>\n",
       "<table border=\"1\" class=\"dataframe\">\n",
       "  <thead>\n",
       "    <tr style=\"text-align: right;\">\n",
       "      <th></th>\n",
       "      <th>city_Coimbra</th>\n",
       "      <th>city_Faro</th>\n",
       "      <th>city_Lagos</th>\n",
       "      <th>city_Lisboa</th>\n",
       "      <th>city_Portimão</th>\n",
       "      <th>city_Porto</th>\n",
       "      <th>quality_High</th>\n",
       "      <th>quality_Low</th>\n",
       "      <th>quality_Medium</th>\n",
       "      <th>quality_Perfect</th>\n",
       "      <th>...</th>\n",
       "      <th>buyer_nationality_United States of America</th>\n",
       "      <th>house_type_Apartamento</th>\n",
       "      <th>house_type_Quinta</th>\n",
       "      <th>house_type_Vivenda</th>\n",
       "      <th>cyear</th>\n",
       "      <th>year</th>\n",
       "      <th>buyer_age</th>\n",
       "      <th>size</th>\n",
       "      <th>n_rooms</th>\n",
       "      <th>n_bathrooms</th>\n",
       "    </tr>\n",
       "  </thead>\n",
       "  <tbody>\n",
       "    <tr>\n",
       "      <th>0</th>\n",
       "      <td>False</td>\n",
       "      <td>False</td>\n",
       "      <td>False</td>\n",
       "      <td>True</td>\n",
       "      <td>False</td>\n",
       "      <td>False</td>\n",
       "      <td>True</td>\n",
       "      <td>False</td>\n",
       "      <td>False</td>\n",
       "      <td>False</td>\n",
       "      <td>...</td>\n",
       "      <td>False</td>\n",
       "      <td>True</td>\n",
       "      <td>False</td>\n",
       "      <td>False</td>\n",
       "      <td>2015</td>\n",
       "      <td>False</td>\n",
       "      <td>59</td>\n",
       "      <td>92.02</td>\n",
       "      <td>4</td>\n",
       "      <td>4</td>\n",
       "    </tr>\n",
       "  </tbody>\n",
       "</table>\n",
       "<p>1 rows × 31 columns</p>\n",
       "</div>"
      ],
      "text/plain": [
       "   city_Coimbra  city_Faro  city_Lagos  city_Lisboa  city_Portimão  \\\n",
       "0         False      False       False         True          False   \n",
       "\n",
       "   city_Porto  quality_High  quality_Low  quality_Medium  quality_Perfect  \\\n",
       "0       False          True        False           False            False   \n",
       "\n",
       "   ...  buyer_nationality_United States of America  house_type_Apartamento  \\\n",
       "0  ...                                       False                    True   \n",
       "\n",
       "   house_type_Quinta  house_type_Vivenda  cyear   year  buyer_age   size  \\\n",
       "0              False               False   2015  False         59  92.02   \n",
       "\n",
       "   n_rooms  n_bathrooms  \n",
       "0        4            4  \n",
       "\n",
       "[1 rows x 31 columns]"
      ]
     },
     "execution_count": 12,
     "metadata": {},
     "output_type": "execute_result"
    }
   ],
   "source": [
    "new_house = pd.DataFrame(data={'city': 'Lisboa','osex': 'Male','cyear': 2015,'quality': 'High','buyer.ethnicity': 'American','buyer.gender': 'Female','buyer.age': 59, \n",
    "                          'buyer.nationality': 'Portugal','house.type': 'Apartamento','size': 92.02,'n.rooms': 4,'n.bathrooms': 4}, index=[0])\n",
    "\n",
    "\n",
    "new_house = new_house.rename(columns={\n",
    "    'buyer.ethnicity': 'buyer_ethnicity',\n",
    "    'buyer.gender': 'buyer_gender',\n",
    "    'buyer.age': 'buyer_age',\n",
    "    'buyer.nationality': 'buyer_nationality',\n",
    "    'house.type': 'house_type',\n",
    "    'n.rooms': 'n_rooms',\n",
    "    'n.bathrooms': 'n_bathrooms'\n",
    "})\n",
    "\n",
    "new_house = pd.get_dummies(\n",
    "                new_house[['city']]\n",
    "            ).merge(\n",
    "                pd.get_dummies(new_house[['quality']]), left_index=True, right_index=True\n",
    "            ).merge(\n",
    "                pd.get_dummies(new_house[['buyer_ethnicity']]), left_index=True, right_index=True\n",
    "            ).merge(\n",
    "                pd.get_dummies(new_house[['buyer_gender']]), left_index=True, right_index=True\n",
    "            ).merge(\n",
    "                pd.get_dummies(new_house[['buyer_nationality']]), left_index=True, right_index=True\n",
    "            ).merge(\n",
    "                pd.get_dummies(new_house[['house_type']]), left_index=True, right_index=True\n",
    "            ).merge(\n",
    "                new_house[['cyear', 'buyer_age', 'size', 'n_rooms', 'n_bathrooms']], left_index=True, right_index=True\n",
    "            )\n",
    "\n",
    "for col in sales_d.columns.to_list():\n",
    "    if col not in new_house.columns:\n",
    "        new_house[col] = False\n",
    "\n",
    "new_house = new_house.reindex(sales_d.columns, axis=1)\n",
    "\n",
    "new_house"
   ]
  },
  {
   "cell_type": "code",
   "execution_count": 13,
   "metadata": {},
   "outputs": [
    {
     "data": {
      "text/html": [
       "<div>\n",
       "<style scoped>\n",
       "    .dataframe tbody tr th:only-of-type {\n",
       "        vertical-align: middle;\n",
       "    }\n",
       "\n",
       "    .dataframe tbody tr th {\n",
       "        vertical-align: top;\n",
       "    }\n",
       "\n",
       "    .dataframe thead th {\n",
       "        text-align: right;\n",
       "    }\n",
       "</style>\n",
       "<table border=\"1\" class=\"dataframe\">\n",
       "  <thead>\n",
       "    <tr style=\"text-align: right;\">\n",
       "      <th></th>\n",
       "      <th>id</th>\n",
       "      <th>city</th>\n",
       "      <th>cyear</th>\n",
       "      <th>quality</th>\n",
       "      <th>year</th>\n",
       "      <th>buyer_ethnicity</th>\n",
       "      <th>buyer_gender</th>\n",
       "      <th>buyer_age</th>\n",
       "      <th>buyer_nationality</th>\n",
       "      <th>house_type</th>\n",
       "      <th>size</th>\n",
       "      <th>n_rooms</th>\n",
       "      <th>n_bathrooms</th>\n",
       "      <th>price</th>\n",
       "      <th>price.with.iva</th>\n",
       "    </tr>\n",
       "  </thead>\n",
       "  <tbody>\n",
       "    <tr>\n",
       "      <th>0</th>\n",
       "      <td>PT-387</td>\n",
       "      <td>Lisboa</td>\n",
       "      <td>2004.0</td>\n",
       "      <td>Low</td>\n",
       "      <td>2023</td>\n",
       "      <td>Middle-Eastern, Arabic</td>\n",
       "      <td>Male</td>\n",
       "      <td>46</td>\n",
       "      <td>United States of America</td>\n",
       "      <td>Apartamento</td>\n",
       "      <td>338.73</td>\n",
       "      <td>1</td>\n",
       "      <td>2</td>\n",
       "      <td>220</td>\n",
       "      <td>270.60</td>\n",
       "    </tr>\n",
       "    <tr>\n",
       "      <th>1</th>\n",
       "      <td>PT-1225</td>\n",
       "      <td>Lisboa</td>\n",
       "      <td>2014.0</td>\n",
       "      <td>Very High</td>\n",
       "      <td>2018</td>\n",
       "      <td>Hispanic</td>\n",
       "      <td>Female</td>\n",
       "      <td>47</td>\n",
       "      <td>Portugal</td>\n",
       "      <td>Vivenda</td>\n",
       "      <td>230.79</td>\n",
       "      <td>3</td>\n",
       "      <td>4</td>\n",
       "      <td>476</td>\n",
       "      <td>585.48</td>\n",
       "    </tr>\n",
       "    <tr>\n",
       "      <th>2</th>\n",
       "      <td>PT-1108</td>\n",
       "      <td>Lisboa</td>\n",
       "      <td>2003.0</td>\n",
       "      <td>High</td>\n",
       "      <td>2016</td>\n",
       "      <td>White</td>\n",
       "      <td>Female</td>\n",
       "      <td>39</td>\n",
       "      <td>Portugal</td>\n",
       "      <td>Quinta</td>\n",
       "      <td>209.77</td>\n",
       "      <td>2</td>\n",
       "      <td>3</td>\n",
       "      <td>299</td>\n",
       "      <td>367.77</td>\n",
       "    </tr>\n",
       "    <tr>\n",
       "      <th>3</th>\n",
       "      <td>PT-219</td>\n",
       "      <td>Porto</td>\n",
       "      <td>2006.0</td>\n",
       "      <td>High</td>\n",
       "      <td>2015</td>\n",
       "      <td>White</td>\n",
       "      <td>Male</td>\n",
       "      <td>40</td>\n",
       "      <td>United States of America</td>\n",
       "      <td>Apartamento</td>\n",
       "      <td>315.01</td>\n",
       "      <td>3</td>\n",
       "      <td>3</td>\n",
       "      <td>400</td>\n",
       "      <td>492.00</td>\n",
       "    </tr>\n",
       "    <tr>\n",
       "      <th>4</th>\n",
       "      <td>PT-544</td>\n",
       "      <td>Lisboa</td>\n",
       "      <td>2002.0</td>\n",
       "      <td>Perfect</td>\n",
       "      <td>2022</td>\n",
       "      <td>Black (not Hispanic)</td>\n",
       "      <td>Female</td>\n",
       "      <td>39</td>\n",
       "      <td>England</td>\n",
       "      <td>Apartamento</td>\n",
       "      <td>146.53</td>\n",
       "      <td>5</td>\n",
       "      <td>4</td>\n",
       "      <td>827</td>\n",
       "      <td>1017.21</td>\n",
       "    </tr>\n",
       "    <tr>\n",
       "      <th>...</th>\n",
       "      <td>...</td>\n",
       "      <td>...</td>\n",
       "      <td>...</td>\n",
       "      <td>...</td>\n",
       "      <td>...</td>\n",
       "      <td>...</td>\n",
       "      <td>...</td>\n",
       "      <td>...</td>\n",
       "      <td>...</td>\n",
       "      <td>...</td>\n",
       "      <td>...</td>\n",
       "      <td>...</td>\n",
       "      <td>...</td>\n",
       "      <td>...</td>\n",
       "      <td>...</td>\n",
       "    </tr>\n",
       "    <tr>\n",
       "      <th>404</th>\n",
       "      <td>PT-1059</td>\n",
       "      <td>Lisboa</td>\n",
       "      <td>1996.0</td>\n",
       "      <td>Low</td>\n",
       "      <td>2018</td>\n",
       "      <td>Asian</td>\n",
       "      <td>Female</td>\n",
       "      <td>46</td>\n",
       "      <td>Portugal</td>\n",
       "      <td>Vivenda</td>\n",
       "      <td>329.84</td>\n",
       "      <td>1</td>\n",
       "      <td>4</td>\n",
       "      <td>220</td>\n",
       "      <td>270.60</td>\n",
       "    </tr>\n",
       "    <tr>\n",
       "      <th>405</th>\n",
       "      <td>PT-834</td>\n",
       "      <td>Porto</td>\n",
       "      <td>2008.0</td>\n",
       "      <td>High</td>\n",
       "      <td>2016</td>\n",
       "      <td>Hispanic</td>\n",
       "      <td>Male</td>\n",
       "      <td>10</td>\n",
       "      <td>Portugal</td>\n",
       "      <td>Quinta</td>\n",
       "      <td>282.50</td>\n",
       "      <td>2</td>\n",
       "      <td>2</td>\n",
       "      <td>348</td>\n",
       "      <td>428.04</td>\n",
       "    </tr>\n",
       "    <tr>\n",
       "      <th>406</th>\n",
       "      <td>PT-167</td>\n",
       "      <td>Porto</td>\n",
       "      <td>2006.0</td>\n",
       "      <td>High</td>\n",
       "      <td>2016</td>\n",
       "      <td>White</td>\n",
       "      <td>Female</td>\n",
       "      <td>45</td>\n",
       "      <td>United States of America</td>\n",
       "      <td>Apartamento</td>\n",
       "      <td>292.31</td>\n",
       "      <td>6</td>\n",
       "      <td>30</td>\n",
       "      <td>847</td>\n",
       "      <td>1041.81</td>\n",
       "    </tr>\n",
       "    <tr>\n",
       "      <th>407</th>\n",
       "      <td>PT-34</td>\n",
       "      <td>Lisboa</td>\n",
       "      <td>1960.0</td>\n",
       "      <td>Very High</td>\n",
       "      <td>2023</td>\n",
       "      <td>American</td>\n",
       "      <td>Female</td>\n",
       "      <td>49</td>\n",
       "      <td>Portugal</td>\n",
       "      <td>Apartamento</td>\n",
       "      <td>294.32</td>\n",
       "      <td>1</td>\n",
       "      <td>2</td>\n",
       "      <td>227</td>\n",
       "      <td>279.21</td>\n",
       "    </tr>\n",
       "    <tr>\n",
       "      <th>408</th>\n",
       "      <td>PT-253</td>\n",
       "      <td>Porto</td>\n",
       "      <td>1999.0</td>\n",
       "      <td>High</td>\n",
       "      <td>2016</td>\n",
       "      <td>Hispanic</td>\n",
       "      <td>Male</td>\n",
       "      <td>29</td>\n",
       "      <td>England</td>\n",
       "      <td>Apartamento</td>\n",
       "      <td>263.74</td>\n",
       "      <td>6</td>\n",
       "      <td>3</td>\n",
       "      <td>964</td>\n",
       "      <td>1185.72</td>\n",
       "    </tr>\n",
       "  </tbody>\n",
       "</table>\n",
       "<p>409 rows × 15 columns</p>\n",
       "</div>"
      ],
      "text/plain": [
       "          id    city   cyear    quality  year         buyer_ethnicity  \\\n",
       "0     PT-387  Lisboa  2004.0        Low  2023  Middle-Eastern, Arabic   \n",
       "1    PT-1225  Lisboa  2014.0  Very High  2018                Hispanic   \n",
       "2    PT-1108  Lisboa  2003.0       High  2016                   White   \n",
       "3     PT-219   Porto  2006.0       High  2015                   White   \n",
       "4     PT-544  Lisboa  2002.0    Perfect  2022    Black (not Hispanic)   \n",
       "..       ...     ...     ...        ...   ...                     ...   \n",
       "404  PT-1059  Lisboa  1996.0        Low  2018                   Asian   \n",
       "405   PT-834   Porto  2008.0       High  2016                Hispanic   \n",
       "406   PT-167   Porto  2006.0       High  2016                   White   \n",
       "407    PT-34  Lisboa  1960.0  Very High  2023                American   \n",
       "408   PT-253   Porto  1999.0       High  2016                Hispanic   \n",
       "\n",
       "    buyer_gender  buyer_age         buyer_nationality   house_type    size  \\\n",
       "0           Male         46  United States of America  Apartamento  338.73   \n",
       "1         Female         47                  Portugal      Vivenda  230.79   \n",
       "2         Female         39                  Portugal       Quinta  209.77   \n",
       "3           Male         40  United States of America  Apartamento  315.01   \n",
       "4         Female         39                   England  Apartamento  146.53   \n",
       "..           ...        ...                       ...          ...     ...   \n",
       "404       Female         46                  Portugal      Vivenda  329.84   \n",
       "405         Male         10                  Portugal       Quinta  282.50   \n",
       "406       Female         45  United States of America  Apartamento  292.31   \n",
       "407       Female         49                  Portugal  Apartamento  294.32   \n",
       "408         Male         29                   England  Apartamento  263.74   \n",
       "\n",
       "     n_rooms  n_bathrooms  price  price.with.iva  \n",
       "0          1            2    220          270.60  \n",
       "1          3            4    476          585.48  \n",
       "2          2            3    299          367.77  \n",
       "3          3            3    400          492.00  \n",
       "4          5            4    827         1017.21  \n",
       "..       ...          ...    ...             ...  \n",
       "404        1            4    220          270.60  \n",
       "405        2            2    348          428.04  \n",
       "406        6           30    847         1041.81  \n",
       "407        1            2    227          279.21  \n",
       "408        6            3    964         1185.72  \n",
       "\n",
       "[409 rows x 15 columns]"
      ]
     },
     "execution_count": 13,
     "metadata": {},
     "output_type": "execute_result"
    }
   ],
   "source": [
    "nhp = clf.predict(new_house)\n",
    "\n",
    "nhp\n",
    "sales"
   ]
  },
  {
   "cell_type": "markdown",
   "metadata": {},
   "source": [
    "# Conclusões"
   ]
  },
  {
   "cell_type": "markdown",
   "metadata": {},
   "source": [
    "\n",
    "### Apresente algumas conclusões finais e pertinentes acerca das vendas sobre o qual acabou de trabalhar. Que poderia sugerir à imobiliária em causa ?\n",
    "\n",
    "Sugeriria à imobiliária que uma recolha de dados sobre a casa mais detalhada traria uma previsão melhorada. Exemplos de dados a recolher:\n",
    "    Informação sobre o local - Distrito é uma categoria muito ampla. Dados como freguesia e rua trazem uma possibilidade de análise mais profunda\n",
    "    Informação complementar do imóvel - algumas características que possam aumentar ou reduzir o valor-face do imóvel. Por exemplo, um andar alto tende a valer mais que uma cave, ou a valorização que piscina ou garagem trazem.\n",
    "A quantidade de dados também é reduzida. Uma amostra maior traria uma análise mais promenorizada do peso de cada categoria de dados recolhida, o que melhora a performance da previsão."
   ]
  }
 ],
 "metadata": {
  "anaconda-cloud": {},
  "kernelspec": {
   "display_name": "Python 3",
   "language": "python",
   "name": "python3"
  },
  "language_info": {
   "codemirror_mode": {
    "name": "ipython",
    "version": 3
   },
   "file_extension": ".py",
   "mimetype": "text/x-python",
   "name": "python",
   "nbconvert_exporter": "python",
   "pygments_lexer": "ipython3",
   "version": "3.12.2"
  }
 },
 "nbformat": 4,
 "nbformat_minor": 0
}
